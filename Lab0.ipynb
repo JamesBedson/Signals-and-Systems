{
 "nbformat": 4,
 "nbformat_minor": 0,
 "metadata": {
  "colab": {
   "name": "Lab0.ipynb",
   "provenance": []
  },
  "kernelspec": {
   "name": "python3",
   "display_name": "Python 3"
  },
  "language_info": {
   "name": "python"
  }
 },
 "cells": [
  {
   "cell_type": "code",
   "metadata": {
    "colab": {
     "base_uri": "https://localhost:8080/"
    },
    "id": "qjqxWfGLQq33",
    "executionInfo": {
     "status": "ok",
     "timestamp": 1633545998404,
     "user_tz": -120,
     "elapsed": 5279,
     "user": {
      "displayName": "ANDREU GARCIES RAMON",
      "photoUrl": "https://lh3.googleusercontent.com/a/default-user=s64",
      "userId": "11090770267278923852"
     }
    },
    "outputId": "98b67c6f-fee7-4dd4-fbfa-045e473ede18"
   },
   "source": [
    "from sis1lab.util import load_audio\n",
    "from IPython.display import Audio"
   ],
   "execution_count": 1,
   "outputs": []
  },
  {
   "cell_type": "markdown",
   "metadata": {
    "id": "ukUllJREPzyK"
   },
   "source": [
    "## **Lab 0**\n",
    "\n",
    "The goal of the first lab is to gain familiarity with Python and build some basic skills in the Python language that will be needed in the labs of this course. \n",
    " \n",
    "If you desire an in-depth presentation that covers most of the language, consult the Python website, https://www.python.org/, starting from the tutorial  https://docs.python.org/3.8/tutorial/index.html or the Beginners Guide, https://wiki.python.org/moin/BeginnersGuide.\n",
    " \n",
    "Besides, this lab aims at selecting the plucked string instrument which will be synthesised and at trying a first attempt of synthesis by summing a few number of harmonic signals.\n",
    "\n",
    "\n",
    "**Basic Commands**\n",
    "\n",
    "In this lab you should first practice the concepts by following the initial examples and explanations, then do the exercises.\n",
    "\n",
    "For all these calculations it needs `numpy` to be imported."
   ]
  },
  {
   "cell_type": "code",
   "metadata": {
    "id": "PwvHo8daPsau"
   },
   "source": [
    "import numpy as np"
   ],
   "execution_count": 2,
   "outputs": []
  },
  {
   "cell_type": "markdown",
   "metadata": {
    "id": "ZMpb8qY9P5dx"
   },
   "source": [
    "From now on any command preceded by np will be using numpy.\n",
    "\n",
    "Python can be used a calculator, as shown below:"
   ]
  },
  {
   "cell_type": "code",
   "metadata": {
    "colab": {
     "base_uri": "https://localhost:8080/"
    },
    "id": "do5PPliqP8PX",
    "executionInfo": {
     "status": "ok",
     "timestamp": 1633333613386,
     "user_tz": -120,
     "elapsed": 302,
     "user": {
      "displayName": "JUAN SEBASTIÁN GÓMEZ CAÑÓN",
      "photoUrl": "https://lh3.googleusercontent.com/a/default-user=s64",
      "userId": "18286075121967442723"
     }
    },
    "outputId": "7df05fbd-6aa5-48fd-850d-3caab635d2b2"
   },
   "source": [
    "4+3"
   ],
   "execution_count": null,
   "outputs": []
  },
  {
   "cell_type": "code",
   "metadata": {
    "colab": {
     "base_uri": "https://localhost:8080/"
    },
    "id": "z81p8x16QDK0",
    "executionInfo": {
     "status": "ok",
     "timestamp": 1633333614810,
     "user_tz": -120,
     "elapsed": 10,
     "user": {
      "displayName": "JUAN SEBASTIÁN GÓMEZ CAÑÓN",
      "photoUrl": "https://lh3.googleusercontent.com/a/default-user=s64",
      "userId": "18286075121967442723"
     }
    },
    "outputId": "8790a257-a191-4b0f-fa77-d34ba7dff4a4"
   },
   "source": [
    "np.pi * np.pi - 10"
   ],
   "execution_count": null,
   "outputs": []
  },
  {
   "cell_type": "code",
   "metadata": {
    "colab": {
     "base_uri": "https://localhost:8080/"
    },
    "id": "ucjbEjxXQDxd",
    "executionInfo": {
     "status": "ok",
     "timestamp": 1633333617594,
     "user_tz": -120,
     "elapsed": 4,
     "user": {
      "displayName": "JUAN SEBASTIÁN GÓMEZ CAÑÓN",
      "photoUrl": "https://lh3.googleusercontent.com/a/default-user=s64",
      "userId": "18286075121967442723"
     }
    },
    "outputId": "6e24ea24-749c-4b9c-d920-b2936c637985"
   },
   "source": [
    "np.sin(np.pi / 4)"
   ],
   "execution_count": null,
   "outputs": []
  },
  {
   "cell_type": "markdown",
   "metadata": {
    "id": "UQHJSEe2QHpM"
   },
   "source": [
    "Variable names can store values and matrices in Python. Try the following:"
   ]
  },
  {
   "cell_type": "code",
   "metadata": {
    "colab": {
     "base_uri": "https://localhost:8080/"
    },
    "id": "AP-2LzY1QJcg",
    "executionInfo": {
     "status": "ok",
     "timestamp": 1633333620469,
     "user_tz": -120,
     "elapsed": 499,
     "user": {
      "displayName": "JUAN SEBASTIÁN GÓMEZ CAÑÓN",
      "photoUrl": "https://lh3.googleusercontent.com/a/default-user=s64",
      "userId": "18286075121967442723"
     }
    },
    "outputId": "036ec439-9e1e-4a89-ead8-fd127b38db65"
   },
   "source": [
    "xx = np.sin(np.pi / 5)\n",
    "yy = np.sqrt(1 - xx * xx)\n",
    "print(yy)"
   ],
   "execution_count": null,
   "outputs": []
  },
  {
   "cell_type": "markdown",
   "metadata": {
    "id": "1eK3KFVZQLRX"
   },
   "source": [
    "Complex numbers are natural in Python. Notice that the names of some basic operations are unexpected, e.g., abs for magnitude. Try the following:"
   ]
  },
  {
   "cell_type": "code",
   "metadata": {
    "colab": {
     "base_uri": "https://localhost:8080/"
    },
    "id": "zKE2ivrBQNNd",
    "executionInfo": {
     "status": "ok",
     "timestamp": 1633333622933,
     "user_tz": -120,
     "elapsed": 325,
     "user": {
      "displayName": "JUAN SEBASTIÁN GÓMEZ CAÑÓN",
      "photoUrl": "https://lh3.googleusercontent.com/a/default-user=s64",
      "userId": "18286075121967442723"
     }
    },
    "outputId": "8a6db66b-4dc7-4194-dfcf-44f54f91dd85"
   },
   "source": [
    "zz = 3 + 4j\n",
    "zz.conjugate()"
   ],
   "execution_count": null,
   "outputs": []
  },
  {
   "cell_type": "code",
   "metadata": {
    "colab": {
     "base_uri": "https://localhost:8080/"
    },
    "id": "MBK5f-Z_QO1s",
    "executionInfo": {
     "status": "ok",
     "timestamp": 1633333625306,
     "user_tz": -120,
     "elapsed": 305,
     "user": {
      "displayName": "JUAN SEBASTIÁN GÓMEZ CAÑÓN",
      "photoUrl": "https://lh3.googleusercontent.com/a/default-user=s64",
      "userId": "18286075121967442723"
     }
    },
    "outputId": "08620a4a-ca55-46ef-d1ba-91538b959426"
   },
   "source": [
    "np.abs(zz)"
   ],
   "execution_count": null,
   "outputs": []
  },
  {
   "cell_type": "code",
   "metadata": {
    "colab": {
     "base_uri": "https://localhost:8080/"
    },
    "id": "K7DZ9ZruQR7s",
    "executionInfo": {
     "status": "ok",
     "timestamp": 1633333627155,
     "user_tz": -120,
     "elapsed": 4,
     "user": {
      "displayName": "JUAN SEBASTIÁN GÓMEZ CAÑÓN",
      "photoUrl": "https://lh3.googleusercontent.com/a/default-user=s64",
      "userId": "18286075121967442723"
     }
    },
    "outputId": "3af08912-c8b9-4862-93d0-f45a6d070589"
   },
   "source": [
    "np.angle(zz)"
   ],
   "execution_count": null,
   "outputs": []
  },
  {
   "cell_type": "code",
   "metadata": {
    "colab": {
     "base_uri": "https://localhost:8080/"
    },
    "id": "drMOGNRjQTOw",
    "executionInfo": {
     "status": "ok",
     "timestamp": 1633333629201,
     "user_tz": -120,
     "elapsed": 8,
     "user": {
      "displayName": "JUAN SEBASTIÁN GÓMEZ CAÑÓN",
      "photoUrl": "https://lh3.googleusercontent.com/a/default-user=s64",
      "userId": "18286075121967442723"
     }
    },
    "outputId": "46e17122-5cfe-484a-c174-db73c59e0b76"
   },
   "source": [
    "zz.real"
   ],
   "execution_count": null,
   "outputs": []
  },
  {
   "cell_type": "code",
   "metadata": {
    "colab": {
     "base_uri": "https://localhost:8080/"
    },
    "id": "SHWlGA4DQUVw",
    "executionInfo": {
     "status": "ok",
     "timestamp": 1633333631024,
     "user_tz": -120,
     "elapsed": 10,
     "user": {
      "displayName": "JUAN SEBASTIÁN GÓMEZ CAÑÓN",
      "photoUrl": "https://lh3.googleusercontent.com/a/default-user=s64",
      "userId": "18286075121967442723"
     }
    },
    "outputId": "13fb3def-5408-4421-83ae-043c1132ef78"
   },
   "source": [
    "zz.imag"
   ],
   "execution_count": null,
   "outputs": []
  },
  {
   "cell_type": "code",
   "metadata": {
    "colab": {
     "base_uri": "https://localhost:8080/"
    },
    "id": "KI4TllKmQVz8",
    "executionInfo": {
     "status": "ok",
     "timestamp": 1633333632775,
     "user_tz": -120,
     "elapsed": 8,
     "user": {
      "displayName": "JUAN SEBASTIÁN GÓMEZ CAÑÓN",
      "photoUrl": "https://lh3.googleusercontent.com/a/default-user=s64",
      "userId": "18286075121967442723"
     }
    },
    "outputId": "d2ac0b0b-360b-4620-d51d-d00841d2acb4"
   },
   "source": [
    "np.exp(1j* np.pi/4)"
   ],
   "execution_count": null,
   "outputs": []
  },
  {
   "cell_type": "markdown",
   "metadata": {
    "id": "G4mFLx-tQYRx"
   },
   "source": [
    "**Arrays**\n",
    "\n",
    "In the labs we will use numpy arrays, thus to create and process arrays we will use the functions from numpy. Numpy tutorial: https://docs.scipy.org/doc/numpy-dev/user/quickstart.html\n",
    "\n",
    "(a) Make sure that you understand the array notation. Try and understand the following commands"
   ]
  },
  {
   "cell_type": "code",
   "metadata": {
    "colab": {
     "base_uri": "https://localhost:8080/"
    },
    "id": "owxd6HtRQadt",
    "executionInfo": {
     "status": "ok",
     "timestamp": 1633333635282,
     "user_tz": -120,
     "elapsed": 8,
     "user": {
      "displayName": "JUAN SEBASTIÁN GÓMEZ CAÑÓN",
      "photoUrl": "https://lh3.googleusercontent.com/a/default-user=s64",
      "userId": "18286075121967442723"
     }
    },
    "outputId": "4de21011-5a72-48b7-9e73-c8712759716b"
   },
   "source": [
    "a = np.array([0,1,2,3])\n",
    "b = np.zeros(10)\n",
    "c = np.arange(2, 4, .2)\n",
    "d = 2 * np.pi * np.arange(0, 2, .2)\n",
    "print(d)"
   ],
   "execution_count": null,
   "outputs": []
  },
  {
   "cell_type": "markdown",
   "metadata": {
    "id": "UopEuTO0Qc2Y"
   },
   "source": [
    "*One*-dimensional arrays can be indexed, sliced and iterated over, like:"
   ]
  },
  {
   "cell_type": "code",
   "metadata": {
    "colab": {
     "base_uri": "https://localhost:8080/"
    },
    "id": "NVRHxxoZQeGj",
    "executionInfo": {
     "status": "ok",
     "timestamp": 1633333638198,
     "user_tz": -120,
     "elapsed": 306,
     "user": {
      "displayName": "JUAN SEBASTIÁN GÓMEZ CAÑÓN",
      "photoUrl": "https://lh3.googleusercontent.com/a/default-user=s64",
      "userId": "18286075121967442723"
     }
    },
    "outputId": "2582d4a6-9c4c-446f-a52a-33e164c70246"
   },
   "source": [
    "a = np.arange(10)**3\n",
    "a[2]"
   ],
   "execution_count": null,
   "outputs": []
  },
  {
   "cell_type": "code",
   "metadata": {
    "colab": {
     "base_uri": "https://localhost:8080/"
    },
    "id": "b0XWMw2zQfJo",
    "executionInfo": {
     "status": "ok",
     "timestamp": 1633333641706,
     "user_tz": -120,
     "elapsed": 539,
     "user": {
      "displayName": "JUAN SEBASTIÁN GÓMEZ CAÑÓN",
      "photoUrl": "https://lh3.googleusercontent.com/a/default-user=s64",
      "userId": "18286075121967442723"
     }
    },
    "outputId": "88a3c236-873b-48d8-c1ca-856096523f9a"
   },
   "source": [
    "a[2:5]"
   ],
   "execution_count": null,
   "outputs": []
  },
  {
   "cell_type": "code",
   "metadata": {
    "colab": {
     "base_uri": "https://localhost:8080/"
    },
    "id": "VVaM2D5tQgan",
    "executionInfo": {
     "status": "ok",
     "timestamp": 1633333643804,
     "user_tz": -120,
     "elapsed": 8,
     "user": {
      "displayName": "JUAN SEBASTIÁN GÓMEZ CAÑÓN",
      "photoUrl": "https://lh3.googleusercontent.com/a/default-user=s64",
      "userId": "18286075121967442723"
     }
    },
    "outputId": "e14ece5c-7093-40a9-8ca3-ffbead0a0ad6"
   },
   "source": [
    "a.size"
   ],
   "execution_count": null,
   "outputs": []
  },
  {
   "cell_type": "markdown",
   "metadata": {
    "id": "bV64sCJFQl5j"
   },
   "source": [
    "**Sinusoids**\n",
    "\n",
    "We can use python to create a sinewave"
   ]
  },
  {
   "cell_type": "code",
   "metadata": {
    "id": "qEt2weMtQnZp"
   },
   "source": [
    "A = 0.8\n",
    "f0 = 300.0\n",
    "phi = np.pi/2\n",
    "fs = 44100\n",
    "t = np.arange(0, .1, 1.0/fs)\n",
    "x = A * np.cos(2*np.pi*f0*t + phi)"
   ],
   "execution_count": 7,
   "outputs": []
  },
  {
   "cell_type": "markdown",
   "metadata": {
    "id": "6pQHxsQrQo1A"
   },
   "source": [
    "We provide some auxilary functions to the signals and read/write audio files:"
   ]
  },
  {
   "cell_type": "code",
   "metadata": {
    "id": "TLneHef_Q7ep"
   },
   "source": [
    "from sis1lab.util import load_audio, save_audio, plot_signals"
   ],
   "execution_count": 8,
   "outputs": [
    {
     "ename": "ModuleNotFoundError",
     "evalue": "No module named 'soundfile'",
     "output_type": "error",
     "traceback": [
      "\u001B[0;31m---------------------------------------------------------------------------\u001B[0m",
      "\u001B[0;31mModuleNotFoundError\u001B[0m                       Traceback (most recent call last)",
      "\u001B[0;32m/var/folders/k2/fpxl41tx5dv5lb1jxvr_k3wc0000gn/T/ipykernel_1990/4184345227.py\u001B[0m in \u001B[0;36m<module>\u001B[0;34m\u001B[0m\n\u001B[0;32m----> 1\u001B[0;31m \u001B[0;32mfrom\u001B[0m \u001B[0msis1lab\u001B[0m\u001B[0;34m.\u001B[0m\u001B[0mutil\u001B[0m \u001B[0;32mimport\u001B[0m \u001B[0mload_audio\u001B[0m\u001B[0;34m,\u001B[0m \u001B[0msave_audio\u001B[0m\u001B[0;34m,\u001B[0m \u001B[0mplot_signals\u001B[0m\u001B[0;34m\u001B[0m\u001B[0;34m\u001B[0m\u001B[0m\n\u001B[0m",
      "\u001B[0;32m~/Documents/Development/Signals-and-Systems/sis1lab/util.py\u001B[0m in \u001B[0;36m<module>\u001B[0;34m\u001B[0m\n\u001B[0;32m----> 1\u001B[0;31m \u001B[0;32mimport\u001B[0m \u001B[0msoundfile\u001B[0m \u001B[0;32mas\u001B[0m \u001B[0msf\u001B[0m\u001B[0;34m\u001B[0m\u001B[0;34m\u001B[0m\u001B[0m\n\u001B[0m\u001B[1;32m      2\u001B[0m \u001B[0;32mimport\u001B[0m \u001B[0mmatplotlib\u001B[0m\u001B[0;34m.\u001B[0m\u001B[0mpyplot\u001B[0m \u001B[0;32mas\u001B[0m \u001B[0mplt\u001B[0m\u001B[0;34m\u001B[0m\u001B[0;34m\u001B[0m\u001B[0m\n\u001B[1;32m      3\u001B[0m \u001B[0;32mimport\u001B[0m \u001B[0mnumpy\u001B[0m \u001B[0;32mas\u001B[0m \u001B[0mnp\u001B[0m\u001B[0;34m\u001B[0m\u001B[0;34m\u001B[0m\u001B[0m\n\u001B[1;32m      4\u001B[0m \u001B[0;32mimport\u001B[0m \u001B[0mlibrosa\u001B[0m\u001B[0;34m\u001B[0m\u001B[0;34m\u001B[0m\u001B[0m\n\u001B[1;32m      5\u001B[0m \u001B[0;32mfrom\u001B[0m \u001B[0mplotly\u001B[0m\u001B[0;34m.\u001B[0m\u001B[0moffline\u001B[0m \u001B[0;32mimport\u001B[0m \u001B[0miplot\u001B[0m\u001B[0;34m\u001B[0m\u001B[0;34m\u001B[0m\u001B[0m\n",
      "\u001B[0;31mModuleNotFoundError\u001B[0m: No module named 'soundfile'"
     ]
    }
   ]
  },
  {
   "cell_type": "markdown",
   "metadata": {
    "id": "NFjStotCQ_Bz"
   },
   "source": [
    "For instance, we can use plot_signals to plot the sinwave created before:"
   ]
  },
  {
   "cell_type": "code",
   "metadata": {
    "colab": {
     "base_uri": "https://localhost:8080/",
     "height": 541
    },
    "id": "ZoqailaeRAoO",
    "executionInfo": {
     "status": "ok",
     "timestamp": 1633333653691,
     "user_tz": -120,
     "elapsed": 1535,
     "user": {
      "displayName": "JUAN SEBASTIÁN GÓMEZ CAÑÓN",
      "photoUrl": "https://lh3.googleusercontent.com/a/default-user=s64",
      "userId": "18286075121967442723"
     }
    },
    "outputId": "c10c326a-2821-4ecf-e1ab-1676003a7c5d"
   },
   "source": [
    "plot_signals(x, fs)"
   ],
   "execution_count": null,
   "outputs": []
  },
  {
   "cell_type": "markdown",
   "metadata": {
    "id": "qHZaZ8-QRIde"
   },
   "source": [
    "This function also has some optional arguments to select the start and end time (in seconds)."
   ]
  },
  {
   "cell_type": "code",
   "metadata": {
    "colab": {
     "base_uri": "https://localhost:8080/",
     "height": 541
    },
    "id": "vykUkUkQRB5O",
    "executionInfo": {
     "status": "ok",
     "timestamp": 1633333658734,
     "user_tz": -120,
     "elapsed": 1050,
     "user": {
      "displayName": "JUAN SEBASTIÁN GÓMEZ CAÑÓN",
      "photoUrl": "https://lh3.googleusercontent.com/a/default-user=s64",
      "userId": "18286075121967442723"
     }
    },
    "outputId": "bc3b564f-943a-4bc7-e774-5407257d34ad"
   },
   "source": [
    "plot_signals(x, fs, t_start=0.02, t_end=0.04)"
   ],
   "execution_count": null,
   "outputs": []
  },
  {
   "cell_type": "markdown",
   "metadata": {
    "id": "mZNP0Xw9RFxX"
   },
   "source": [
    "It is also possible to plot several signals in the same figure:\n"
   ]
  },
  {
   "cell_type": "code",
   "metadata": {
    "colab": {
     "base_uri": "https://localhost:8080/",
     "height": 541
    },
    "id": "Zl1CwmlnRM94",
    "executionInfo": {
     "status": "ok",
     "timestamp": 1633333662749,
     "user_tz": -120,
     "elapsed": 911,
     "user": {
      "displayName": "JUAN SEBASTIÁN GÓMEZ CAÑÓN",
      "photoUrl": "https://lh3.googleusercontent.com/a/default-user=s64",
      "userId": "18286075121967442723"
     }
    },
    "outputId": "9c9e4fb7-ae02-442b-df5e-8359861420e6"
   },
   "source": [
    "x1 = A * np.cos(2*np.pi*f0*t + phi)\n",
    "x2 = 0.1 * np.cos(2*np.pi*2*f0*t + phi)\n",
    "\n",
    "plot_signals([x1, x2], fs, t_start=0.02, t_end=0.04, name=['first signal', 'second signal'])"
   ],
   "execution_count": 6,
   "outputs": [
    {
     "ename": "NameError",
     "evalue": "name 'A' is not defined",
     "output_type": "error",
     "traceback": [
      "\u001B[0;31m---------------------------------------------------------------------------\u001B[0m",
      "\u001B[0;31mNameError\u001B[0m                                 Traceback (most recent call last)",
      "\u001B[0;32m/var/folders/k2/fpxl41tx5dv5lb1jxvr_k3wc0000gn/T/ipykernel_1990/1813574495.py\u001B[0m in \u001B[0;36m<module>\u001B[0;34m\u001B[0m\n\u001B[0;32m----> 1\u001B[0;31m \u001B[0mx1\u001B[0m \u001B[0;34m=\u001B[0m \u001B[0mA\u001B[0m \u001B[0;34m*\u001B[0m \u001B[0mnp\u001B[0m\u001B[0;34m.\u001B[0m\u001B[0mcos\u001B[0m\u001B[0;34m(\u001B[0m\u001B[0;36m2\u001B[0m\u001B[0;34m*\u001B[0m\u001B[0mnp\u001B[0m\u001B[0;34m.\u001B[0m\u001B[0mpi\u001B[0m\u001B[0;34m*\u001B[0m\u001B[0mf0\u001B[0m\u001B[0;34m*\u001B[0m\u001B[0mt\u001B[0m \u001B[0;34m+\u001B[0m \u001B[0mphi\u001B[0m\u001B[0;34m)\u001B[0m\u001B[0;34m\u001B[0m\u001B[0;34m\u001B[0m\u001B[0m\n\u001B[0m\u001B[1;32m      2\u001B[0m \u001B[0mx2\u001B[0m \u001B[0;34m=\u001B[0m \u001B[0;36m0.1\u001B[0m \u001B[0;34m*\u001B[0m \u001B[0mnp\u001B[0m\u001B[0;34m.\u001B[0m\u001B[0mcos\u001B[0m\u001B[0;34m(\u001B[0m\u001B[0;36m2\u001B[0m\u001B[0;34m*\u001B[0m\u001B[0mnp\u001B[0m\u001B[0;34m.\u001B[0m\u001B[0mpi\u001B[0m\u001B[0;34m*\u001B[0m\u001B[0;36m2\u001B[0m\u001B[0;34m*\u001B[0m\u001B[0mf0\u001B[0m\u001B[0;34m*\u001B[0m\u001B[0mt\u001B[0m \u001B[0;34m+\u001B[0m \u001B[0mphi\u001B[0m\u001B[0;34m)\u001B[0m\u001B[0;34m\u001B[0m\u001B[0;34m\u001B[0m\u001B[0m\n\u001B[1;32m      3\u001B[0m \u001B[0;34m\u001B[0m\u001B[0m\n\u001B[1;32m      4\u001B[0m \u001B[0mplot_signals\u001B[0m\u001B[0;34m(\u001B[0m\u001B[0;34m[\u001B[0m\u001B[0mx1\u001B[0m\u001B[0;34m,\u001B[0m \u001B[0mx2\u001B[0m\u001B[0;34m]\u001B[0m\u001B[0;34m,\u001B[0m \u001B[0mfs\u001B[0m\u001B[0;34m,\u001B[0m \u001B[0mt_start\u001B[0m\u001B[0;34m=\u001B[0m\u001B[0;36m0.02\u001B[0m\u001B[0;34m,\u001B[0m \u001B[0mt_end\u001B[0m\u001B[0;34m=\u001B[0m\u001B[0;36m0.04\u001B[0m\u001B[0;34m,\u001B[0m \u001B[0mname\u001B[0m\u001B[0;34m=\u001B[0m\u001B[0;34m[\u001B[0m\u001B[0;34m'first signal'\u001B[0m\u001B[0;34m,\u001B[0m \u001B[0;34m'second signal'\u001B[0m\u001B[0;34m]\u001B[0m\u001B[0;34m)\u001B[0m\u001B[0;34m\u001B[0m\u001B[0;34m\u001B[0m\u001B[0m\n",
      "\u001B[0;31mNameError\u001B[0m: name 'A' is not defined"
     ]
    }
   ]
  },
  {
   "cell_type": "code",
   "execution_count": null,
   "outputs": [],
   "source": [],
   "metadata": {
    "collapsed": false,
    "pycharm": {
     "name": "#%%\n"
    }
   }
  }
 ]
}